{
 "cells": [
  {
   "cell_type": "code",
   "execution_count": 1,
   "metadata": {},
   "outputs": [],
   "source": [
    "import keyboard"
   ]
  },
  {
   "cell_type": "code",
   "execution_count": 21,
   "metadata": {},
   "outputs": [
    {
     "name": "stdout",
     "output_type": "stream",
     "text": [
      "1600287801.287883-umschalt\n",
      "1600287801.4218087-enter\n"
     ]
    },
    {
     "data": {
      "text/plain": [
       "<function keyboard.hook.<locals>.remove_()>"
      ]
     },
     "execution_count": 21,
     "metadata": {},
     "output_type": "execute_result"
    },
    {
     "name": "stdout",
     "output_type": "stream",
     "text": [
      "1600287801.4869173-enter\n",
      "1600287801.6177335-umschalt\n",
      "1600287806.3901968-f5\n",
      "1600287806.485858-f5\n",
      "1600287808.9063127-h\n",
      "1600287809.0488186-h\n",
      "1600287809.88175-f5\n",
      "1600287810.0028508-f5\n",
      "1600294737.3522565-strg\n",
      "1600294737.5909388-s\n",
      "1600294737.7010503-s\n",
      "1600294737.7180643-strg\n",
      "1600294741.2262254-strg\n",
      "1600294741.4504294-s\n",
      "1600294741.6325953-s\n",
      "1600294741.6335967-strg\n",
      "1600294744.912851-strg\n",
      "1600294745.2536292-s\n",
      "1600294745.4342184-s\n",
      "1600294745.4603467-strg\n"
     ]
    }
   ],
   "source": [
    "keyboard.unhook_all()\n",
    "\n",
    "file = open(\"./log.txt\", \"w\", encoding=\"utf-8\")\n",
    "    \n",
    "def on_key(key):\n",
    "    file.write(\" # \" + str(key.name)+ \"\\n\") \n",
    "    print(str(key.time) + \"-\" + str(key.name))\n",
    "    file.flush()\n",
    "    \n",
    "keyboard.hook(on_key)"
   ]
  },
  {
   "cell_type": "code",
   "execution_count": null,
   "metadata": {},
   "outputs": [],
   "source": []
  }
 ],
 "metadata": {
  "kernelspec": {
   "display_name": "Python 3",
   "language": "python",
   "name": "python3"
  },
  "language_info": {
   "codemirror_mode": {
    "name": "ipython",
    "version": 3
   },
   "file_extension": ".py",
   "mimetype": "text/x-python",
   "name": "python",
   "nbconvert_exporter": "python",
   "pygments_lexer": "ipython3",
   "version": "3.7.6"
  }
 },
 "nbformat": 4,
 "nbformat_minor": 4
}
