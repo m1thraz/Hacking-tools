{
 "cells": [
  {
   "cell_type": "code",
   "execution_count": 67,
   "metadata": {},
   "outputs": [],
   "source": [
    "url =\"http://python.vic-tim.de/images\""
   ]
  },
  {
   "cell_type": "code",
   "execution_count": 66,
   "metadata": {},
   "outputs": [],
   "source": [
    "# python-requests.org\n",
    "import requests\n",
    "import urllib\n",
    "from bs4 import BeautifulSoup"
   ]
  },
  {
   "cell_type": "code",
   "execution_count": 69,
   "metadata": {},
   "outputs": [],
   "source": [
    "response = requests.get(url)\n",
    "\n",
    "found_images = []\n",
    "\n",
    "if response.status_code == 200:\n",
    "    \n",
    "    doc = BeautifulSoup(response.text, \"html.parser\")\n",
    "    \n",
    "    images= doc.find_all(\"img\")\n",
    "    \n",
    "    for img in images:       \n",
    "        path = urllib.parse.urljoin(url, img.attrs[\"src\"])\n",
    "        found_images.append(path)        "
   ]
  },
  {
   "cell_type": "code",
   "execution_count": 70,
   "metadata": {},
   "outputs": [],
   "source": [
    "import os\n",
    "\n",
    "if not os.path.exists(\"./images\"):\n",
    "    os.mkdir(\"./images\")"
   ]
  },
  {
   "cell_type": "code",
   "execution_count": 80,
   "metadata": {},
   "outputs": [
    {
     "name": "stdout",
     "output_type": "stream",
     "text": [
      "Datei geschrieben!\n",
      "Datei geschrieben!\n",
      "Datei geschrieben!\n",
      "Datei geschrieben!\n",
      "Prgramm zu ende!\n"
     ]
    }
   ],
   "source": [
    "for found_image in found_images:\n",
    "    filename = found_image.split(\"/\")[-1]\n",
    "    response = requests.get(found_image)\n",
    "    with open(\"./images/\" + filename, \"wb\") as file:\n",
    "        file.write(response.content)    \n",
    "        print(\"Datei geschrieben!\")\n",
    "print(\"Programm zu ende!\")"
   ]
  },
  {
   "cell_type": "code",
   "execution_count": null,
   "metadata": {},
   "outputs": [],
   "source": []
  }
 ],
 "metadata": {
  "kernelspec": {
   "display_name": "Python 3",
   "language": "python",
   "name": "python3"
  },
  "language_info": {
   "codemirror_mode": {
    "name": "ipython",
    "version": 3
   },
   "file_extension": ".py",
   "mimetype": "text/x-python",
   "name": "python",
   "nbconvert_exporter": "python",
   "pygments_lexer": "ipython3",
   "version": "3.7.6"
  }
 },
 "nbformat": 4,
 "nbformat_minor": 4
}
