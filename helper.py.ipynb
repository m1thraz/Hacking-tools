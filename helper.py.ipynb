{
 "cells": [
  {
   "cell_type": "code",
   "execution_count": 2,
   "metadata": {},
   "outputs": [],
   "source": [
    "def get_firefox_path(file =\"places.sqlite\"):\n",
    "    import sys\n",
    "    import os\n",
    "    \n",
    "    folder = \"\"\n",
    "    #MAC\n",
    "    if sys.platform == \"darwin\":\n",
    "        folder = os.path.expanduser(\"~\") + \"/Library/Application Supper/Firefox/Profiles/\"\n",
    "  \n",
    "    #Linux    \n",
    "    elif sys.platform.startswith(\"linux\"):\n",
    "        #sys.platform == linux, sys.platfoprm == linux 2\n",
    "        folder = os.path.expanduser(\"~\") + \"/.mozilla/firefox/\"\n",
    "        \n",
    "    #windows\n",
    "    elif sys.platform == \"win32\" or sys.platform ==\"cyqwin\":\n",
    "        folder = os.path.expanduser(\"~\") + \"/AppData/Roaming/Mozilla/Firefox/Profiles/\"\n",
    "        \n",
    "    profile = None\n",
    "    profiles = os.listdir(folder)\n",
    "    for element in profiles:\n",
    "        if element == \"Crash Reports\":\n",
    "            continue\n",
    "        \n",
    "        if element[0] ==\".\":\n",
    "            continue\n",
    "         #folder + \"/\" +element\n",
    "        if os.path.isdir(folder + \"/\" + element):\n",
    "            if os.path.isfile(folder + \"/\" + element + \"/places.sqlite\"):\n",
    "                profile = element\n",
    "                \n",
    "        if profile == None:\n",
    "            raise Exception(\"Firefox could not be found\")\n",
    "            \n",
    "        return folder +  element  + \"/\"+ file      \n",
    "       "
   ]
  },
  {
   "cell_type": "code",
   "execution_count": null,
   "metadata": {},
   "outputs": [],
   "source": []
  }
 ],
 "metadata": {
  "kernelspec": {
   "display_name": "Python 3",
   "language": "python",
   "name": "python3"
  },
  "language_info": {
   "codemirror_mode": {
    "name": "ipython",
    "version": 3
   },
   "file_extension": ".py",
   "mimetype": "text/x-python",
   "name": "python",
   "nbconvert_exporter": "python",
   "pygments_lexer": "ipython3",
   "version": "3.7.6"
  }
 },
 "nbformat": 4,
 "nbformat_minor": 4
}
